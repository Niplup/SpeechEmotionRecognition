{
  "nbformat": 4,
  "nbformat_minor": 0,
  "metadata": {
    "colab": {
      "provenance": [],
      "collapsed_sections": []
    },
    "kernelspec": {
      "name": "python3",
      "display_name": "Python 3"
    },
    "language_info": {
      "name": "python"
    }
  },
  "cells": [
    {
      "cell_type": "code",
      "execution_count": null,
      "metadata": {
        "id": "peZVAl9DOoCa",
        "outputId": "acaff6b6-bd3d-476e-fb63-45f0d3a553f6",
        "colab": {
          "base_uri": "https://localhost:8080/"
        }
      },
      "outputs": [
        {
          "output_type": "stream",
          "name": "stdout",
          "text": [
            "Looking in indexes: https://pypi.org/simple, https://us-python.pkg.dev/colab-wheels/public/simple/\n",
            "Collecting pitch\n",
            "  Downloading pitch-0.0.6-py3-none-any.whl (2.6 kB)\n",
            "Installing collected packages: pitch\n",
            "Successfully installed pitch-0.0.6\n",
            "Looking in indexes: https://pypi.org/simple, https://us-python.pkg.dev/colab-wheels/public/simple/\n",
            "Collecting aubio\n",
            "  Downloading aubio-0.4.9.tar.gz (479 kB)\n",
            "\u001b[K     |████████████████████████████████| 479 kB 5.2 MB/s \n",
            "\u001b[?25hRequirement already satisfied: numpy in /usr/local/lib/python3.7/dist-packages (from aubio) (1.21.6)\n",
            "Building wheels for collected packages: aubio\n",
            "  Building wheel for aubio (setup.py) ... \u001b[?25l\u001b[?25hdone\n",
            "  Created wheel for aubio: filename=aubio-0.4.9-cp37-cp37m-linux_x86_64.whl size=390180 sha256=62a0b7d320fc195e941b911246cd81f9eddd798fa45a5ad5a35f77afea816567\n",
            "  Stored in directory: /root/.cache/pip/wheels/82/d4/6a/930c11ef645b5c5b14e5152ea5030ab1d665593405ca3c5d3e\n",
            "Successfully built aubio\n",
            "Installing collected packages: aubio\n",
            "Successfully installed aubio-0.4.9\n"
          ]
        }
      ],
      "source": [
        "#Install Libraries\n",
        "!pip install pitch\n",
        "!pip install aubio"
      ]
    },
    {
      "cell_type": "code",
      "source": [
        "#Import necessary libraries\n",
        "# import pitch\n",
        "import librosa\n",
        "import numpy as np\n",
        "import os\n",
        "import sys\n",
        "from aubio import source, pitch"
      ],
      "metadata": {
        "id": "VDl71c8DenAv"
      },
      "execution_count": null,
      "outputs": []
    },
    {
      "cell_type": "code",
      "source": [
        "#Mount Google Drive\n",
        "from google.colab import drive\n",
        "drive.mount('/content/gdrive', force_remount=True)"
      ],
      "metadata": {
        "colab": {
          "base_uri": "https://localhost:8080/"
        },
        "id": "E1gfbFXiDyDq",
        "outputId": "bb72ad7e-0dd0-471f-b5fc-045aee49e1f3"
      },
      "execution_count": null,
      "outputs": [
        {
          "output_type": "stream",
          "name": "stdout",
          "text": [
            "Mounted at /content/gdrive\n"
          ]
        }
      ]
    },
    {
      "cell_type": "code",
      "source": [
        "#Dataset base path\n",
        "#Note: if you want to try running stuff you need to make a shortcut from the \n",
        "#dataset Maaz sent and put it into a folder in your \"MyDrive\" called APS360Project\n",
        "base_path = '/content/gdrive/MyDrive/APS360Project/Dataset/Ravdess/audio_speech_actors_01-24/'"
      ],
      "metadata": {
        "id": "rfuqOwmneu9u"
      },
      "execution_count": null,
      "outputs": []
    },
    {
      "cell_type": "code",
      "source": [
        "y, sr = librosa.load(base_path + 'Actor_01/03-01-01-01-01-01-01.wav', sr=40000)\n",
        "pitches, magnitudes = librosa.core.piptrack(y=y, sr=sr, fmin=0, fmax=300)\n",
        "\n",
        "# np.set_printoptions(threshold=np.nan)\n",
        "# print(len(pitches))\n",
        "\n",
        "print(np.mean(pitches[np.nonzero(pitches)]))\n",
        "# print(len(pitches[np.nonzero(pitches)]))\n",
        "# print(np.sum(pitches[np.nonzero(pitches)]))\n",
        "# print(np.sum(pitches[np.nonzero(pitches)]) / len(pitches[np.nonzero(pitches)]))\n",
        "# print(np.max(pitches[np.nonzero(pitches)]))\n",
        "\n",
        "# for p in pitches[np.nonzero(pitches)]:\n",
        "#   # for p in pi:\n",
        "#   print(p)\n",
        "\n",
        "y, sr = librosa.load(base_path + 'Actor_01/03-01-05-01-01-02-01.wav', sr=40000)\n",
        "pitches, magnitudes = librosa.core.piptrack(y=y, sr=sr, fmin=0, fmax=300)\n",
        "print(np.mean(pitches[np.nonzero(pitches)]))\n"
      ],
      "metadata": {
        "colab": {
          "base_uri": "https://localhost:8080/"
        },
        "id": "pzqhfbQ5iB7n",
        "outputId": "0574fac0-4bf8-4a63-b19c-b89a4b986c5f"
      },
      "execution_count": null,
      "outputs": [
        {
          "output_type": "stream",
          "name": "stdout",
          "text": [
            "162.88634\n",
            "165.70477\n"
          ]
        }
      ]
    },
    {
      "cell_type": "code",
      "source": [
        "file_path = 'Actor_20/03-01-07-02-02-02-20.wav'\n",
        "#def getAvgFreq(file_path):\n",
        "win_s = 4096\n",
        "hop_s = 512 \n",
        "samplerate=44100\n",
        "\n",
        "s = source(base_path + file_path, samplerate, hop_s)\n",
        "samplerate = s.samplerate\n",
        "\n",
        "tolerance = 0.8\n",
        "\n",
        "pitch_o = pitch(\"yin\", win_s, hop_s, samplerate)\n",
        "pitch_o.set_unit(\"midi\")\n",
        "pitch_o.set_tolerance(tolerance)\n",
        "\n",
        "pitches = []\n",
        "confidences = []\n",
        "\n",
        "total_frames = 0\n",
        "while True:\n",
        "    samples, read = s()\n",
        "    pitch = pitch_o(samples)[0]\n",
        "    pitches += [pitch]\n",
        "    confidence = pitch_o.get_confidence()\n",
        "    confidences += [confidence]\n",
        "    total_frames += read\n",
        "    if read < hop_s: break\n",
        "\n",
        "#return np.array(np.nonzero(pitches)).mean()\n",
        "print(\"Average frequency = \" + str(np.array(np.nonzero(pitches)).mean()) + \" hz\")"
      ],
      "metadata": {
        "colab": {
          "base_uri": "https://localhost:8080/"
        },
        "id": "x2CpjZB719T8",
        "outputId": "0847286d-8993-44bb-9222-091b409bb044"
      },
      "execution_count": null,
      "outputs": [
        {
          "output_type": "stream",
          "name": "stdout",
          "text": [
            "Average frequency = 156.36477987421384 hz\n"
          ]
        }
      ]
    },
    {
      "cell_type": "code",
      "source": [
        "def getAvgFreq(file_path, sr):\n",
        "  from aubio import source, pitch\n",
        "  win_s = 4096\n",
        "  hop_s = 512 \n",
        "  samplerate=sr\n",
        "\n",
        "  s = source(base_path + file_path, samplerate, hop_s)\n",
        "  samplerate = s.samplerate\n",
        "\n",
        "  tolerance = 0.8\n",
        "\n",
        "  pitch_o = pitch(\"yin\", win_s, hop_s, samplerate)\n",
        "  pitch_o.set_unit(\"midi\")\n",
        "  pitch_o.set_tolerance(tolerance)\n",
        "\n",
        "  pitches = []\n",
        "  confidences = []\n",
        "\n",
        "  total_frames = 0\n",
        "  while True:\n",
        "      samples, read = s()\n",
        "      pitch = pitch_o(samples)[0]\n",
        "      pitches += [pitch]\n",
        "      confidence = pitch_o.get_confidence()\n",
        "      confidences += [confidence]\n",
        "      total_frames += read\n",
        "      if read < hop_s: break\n",
        "\n",
        "  finalValue = np.array(np.nonzero(pitches)).mean()*44100/samplerate\n",
        "  return finalValue"
      ],
      "metadata": {
        "id": "sy801aGYNKId"
      },
      "execution_count": null,
      "outputs": []
    },
    {
      "cell_type": "code",
      "source": [
        "#tests different sample rate values (exact value vs. lower value to save time)\n",
        "#it seems that using the lower sample rate is fine to save time\n",
        "folder = \"Actor_01\"\n",
        "for file in os.listdir(base_path + folder):\n",
        "  print (str(round(getAvgFreq(folder+\"/\"+file, 16000), 2)) + \" vs. \" + str(round(getAvgFreq(folder+\"/\"+file, 44100), 2)))\n",
        "  #print(folder + \"/\" + file)"
      ],
      "metadata": {
        "colab": {
          "base_uri": "https://localhost:8080/"
        },
        "id": "zny5YWzmIK9x",
        "outputId": "3f2e325c-9c38-4f83-e8bb-70bada099e7d"
      },
      "execution_count": null,
      "outputs": [
        {
          "output_type": "stream",
          "name": "stdout",
          "text": [
            "154.88 vs. 154.01\n",
            "138.92 vs. 140.06\n",
            "130.4 vs. 132.96\n",
            "162.86 vs. 158.57\n",
            "134.71 vs. 136.24\n",
            "144.29 vs. 142.45\n",
            "184.09 vs. 182.63\n",
            "140.26 vs. 142.52\n",
            "152.85 vs. 152.47\n",
            "146.08 vs. 146.25\n",
            "181.85 vs. 182.44\n",
            "149.05 vs. 149.81\n",
            "156.23 vs. 157.4\n",
            "145.3 vs. 148.1\n",
            "154.59 vs. 155.91\n",
            "149.73 vs. 150.33\n",
            "165.23 vs. 163.6\n",
            "155.73 vs. 155.38\n",
            "165.71 vs. 165.36\n",
            "165.38 vs. 167.13\n",
            "164.0 vs. 165.0\n",
            "137.99 vs. 138.76\n",
            "155.37 vs. 152.45\n",
            "144.01 vs. 141.69\n",
            "169.28 vs. 167.86\n",
            "167.48 vs. 169.11\n",
            "155.34 vs. 156.39\n",
            "166.56 vs. 167.47\n",
            "167.26 vs. 166.14\n",
            "159.23 vs. 159.56\n",
            "187.02 vs. 188.93\n",
            "158.05 vs. 155.99\n",
            "179.2 vs. 179.49\n",
            "148.32 vs. 149.1\n",
            "155.7 vs. 158.08\n",
            "175.02 vs. 174.34\n",
            "217.56 vs. 221.38\n",
            "159.74 vs. 163.22\n",
            "158.81 vs. 160.82\n",
            "156.92 vs. 157.93\n",
            "145.29 vs. 145.71\n",
            "171.64 vs. 171.77\n",
            "173.57 vs. 174.08\n",
            "159.62 vs. 160.73\n",
            "171.62 vs. 172.63\n",
            "159.82 vs. 160.09\n",
            "190.05 vs. 189.25\n",
            "162.29 vs. 163.28\n",
            "159.6 vs. 159.8\n",
            "156.28 vs. 156.89\n",
            "186.77 vs. 187.41\n",
            "173.74 vs. 173.19\n",
            "145.19 vs. 143.94\n",
            "143.95 vs. 145.25\n",
            "144.08 vs. 145.62\n",
            "138.4 vs. 138.56\n",
            "138.62 vs. 136.8\n",
            "147.46 vs. 147.37\n",
            "136.43 vs. 137.5\n",
            "149.26 vs. 152.26\n"
          ]
        }
      ]
    },
    {
      "cell_type": "code",
      "source": [
        "from math import isnan\n",
        "def getActualEmotion(emotionNum):\n",
        "  if emotionNum == \"01\":\n",
        "    actualEmotion = \"Neutral\"\n",
        "  elif emotionNum ==  \"02\":\n",
        "    actualEmotion = \"Calm\"\n",
        "  elif emotionNum ==  \"03\":\n",
        "    actualEmotion = \"Happy\"\n",
        "  elif emotionNum ==  \"04\":\n",
        "    actualEmotion = \"Sad\"\n",
        "  elif emotionNum ==  \"05\":\n",
        "    actualEmotion = \"Angry\"\n",
        "  elif emotionNum ==  \"06\":\n",
        "    actualEmotion = \"Fearful\"\n",
        "  elif emotionNum ==  \"07\":\n",
        "    actualEmotion = \"Disgusted\"\n",
        "  elif emotionNum ==  \"08\":\n",
        "    actualEmotion = \"Surprised\"\n",
        "  else:\n",
        "    actualEmotion = \"ERROR\"\n",
        "\n",
        "  return actualEmotion\n",
        "\n",
        "def getPredictedEmotion(freq):\n",
        "  if freq < 112.5:\n",
        "    predEmotion = \"Calm\"\n",
        "  elif freq < 125: \n",
        "    predEmotion = \"Neutral\"\n",
        "  elif freq < 137.5:\n",
        "    predEmotion = \"Sad\"\n",
        "  elif freq < 150:\n",
        "    predEmotion = \"Surprised\"\n",
        "  elif freq < 162.5:\n",
        "    predEmotion = \"Fearful\"\n",
        "  elif freq < 175:\n",
        "    predEmotion = \"Happy\"\n",
        "  elif freq < 187.5:\n",
        "    predEmotion = \"Angry\"\n",
        "  else:\n",
        "    predEmotion = \"Disgusted\"\n",
        "  return predEmotion\n",
        "\n",
        "def getEmotionGroup(emotion):\n",
        "  if (emotion == \"Calm\" or emotion == \"Neutral\" or emotion == \"Sad\"):\n",
        "    return 1\n",
        "  elif (emotion == \"Surprised\" or emotion == \"Fearful\" or emotion == \"Happy\"):\n",
        "    return 2\n",
        "  else:\n",
        "    return 3\n",
        "\n",
        "def average(listofStuff):\n",
        "  total = 0\n",
        "  for i in listofStuff:\n",
        "    if not np.isnan(i):\n",
        "      total += i\n",
        "  return total/len(listofStuff)"
      ],
      "metadata": {
        "id": "qEvRWWutVodi"
      },
      "execution_count": null,
      "outputs": []
    },
    {
      "cell_type": "code",
      "source": [
        "def printAllFreqs():\n",
        "  print(\"Disgusted - Average frequency: \" + str(average(disFreqs)) + \" Max frequency: \" + str(max(disFreqs)) + \" Min frequency: \" + str(min(disFreqs)))\n",
        "  print(\"Calm - Average frequency: \" + str(average(calFreqs)) + \" Max frequency: \" + str(max(calFreqs)) + \" Min frequency: \" + str(min(calFreqs)))\n",
        "  print(\"Sad - Average frequency: \" + str(average(sadFreqs)) + \" Max frequency: \" + str(max(sadFreqs)) + \" Min frequency: \" + str(min(sadFreqs)))\n",
        "  print(\"Neutral - Average frequency: \" + str(average(neuFreqs)) + \" Max frequency: \" + str(max(neuFreqs)) + \" Min frequency: \" + str(min(neuFreqs)))\n",
        "  print(\"Angry - Average frequency: \" + str(average(angFreqs)) + \" Max frequency: \" + str(max(angFreqs)) + \" Min frequency: \" + str(min(angFreqs)))\n",
        "  print(\"Surprised - Average frequency: \" + str(average(surFreqs)) + \" Max frequency: \" + str(max(surFreqs)) + \" Min frequency: \" + str(min(surFreqs)))\n",
        "  print(\"Fearful - Average frequency: \" + str(average(ferFreqs)) + \" Max frequency: \" + str(max(ferFreqs)) + \" Min frequency: \" + str(min(ferFreqs)))\n",
        "  print(\"Happy - Average frequency: \" + str(average(hapFreqs)) + \" Max frequency: \" + str(max(hapFreqs)) + \" Min frequency: \" + str(min(hapFreqs)))\n"
      ],
      "metadata": {
        "id": "OnvQDcwxT659"
      },
      "execution_count": null,
      "outputs": []
    },
    {
      "cell_type": "code",
      "source": [
        "correct = 0\n",
        "\n",
        "correctGroup = 0\n",
        "total = 0\n",
        "totalEmotions = [0, 0, 0, 0, 0, 0, 0, 0]\n",
        "correctEmotions = [0, 0, 0, 0, 0, 0, 0, 0]\n",
        "\n",
        "freqs = []\n",
        "disFreqs, calFreqs, sadFreqs, neuFreqs, angFreqs, surFreqs, ferFreqs, hapFreqs = [],[],[],[],[],[],[],[]\n",
        "freqs = [disFreqs, calFreqs, sadFreqs, neuFreqs, angFreqs, surFreqs, ferFreqs, hapFreqs]\n",
        "for folder in os.listdir(base_path):\n",
        "  print(\"Checking files for\", folder)\n",
        "  for fileA in os.listdir(base_path + folder):\n",
        "    filePath = folder + \"/\" + fileA\n",
        "    freq = getAvgFreq(filePath, int(44100/5))\n",
        "    \n",
        "    emotionNum = \"0\" + fileA[7]\n",
        "    actualEmotion = getActualEmotion(emotionNum)\n",
        "    predEmotion = getPredictedEmotion(freq)\n",
        "    actualGroup = getEmotionGroup(actualEmotion)\n",
        "    predGroup = getEmotionGroup(predEmotion)\n",
        "\n",
        "\n",
        "    if (actualEmotion == \"Disgusted\"):\n",
        "      disFreqs.append(freq)\n",
        "      totalEmotions[0]+= 1\n",
        "    if (actualEmotion == \"Calm\"):\n",
        "      calFreqs.append(freq)\n",
        "      totalEmotions[1]+= 1\n",
        "    if (actualEmotion == \"Sad\"):\n",
        "      sadFreqs.append(freq)\n",
        "      totalEmotions[2]+= 1\n",
        "    if (actualEmotion == \"Neutral\"):\n",
        "      neuFreqs.append(freq)\n",
        "      totalEmotions[3]+= 1\n",
        "    if (actualEmotion == \"Angry\"):\n",
        "      angFreqs.append(freq)\n",
        "      totalEmotions[4]+= 1\n",
        "    if (actualEmotion == \"Surprised\"):\n",
        "      surFreqs.append(freq)\n",
        "      totalEmotions[5]+= 1\n",
        "    if (actualEmotion == \"Fearful\"):\n",
        "      ferFreqs.append(freq)\n",
        "      totalEmotions[6]+= 1\n",
        "    if (actualEmotion == \"Happy\"):\n",
        "      hapFreqs.append(freq)\n",
        "      totalEmotions[7]+= 1\n",
        "\n",
        "\n",
        "    total += 1\n",
        "    if predEmotion == actualEmotion:\n",
        "      correct += 1\n",
        "      if (actualEmotion == \"Disgusted\"):\n",
        "        correctEmotions[0]+= 1\n",
        "      if (actualEmotion == \"Calm\"):\n",
        "        correctEmotions[1]+= 1\n",
        "      if (actualEmotion == \"Sad\"):\n",
        "        correctEmotions[2]+= 1\n",
        "      if (actualEmotion == \"Neutral\"):\n",
        "        correctEmotions[3]+= 1\n",
        "      if (actualEmotion == \"Angry\"):\n",
        "        correctEmotions[4]+= 1\n",
        "      if (actualEmotion == \"Surprised\"):\n",
        "        correctEmotions[5]+= 1\n",
        "      if (actualEmotion == \"Fearful\"):\n",
        "        correctEmotions[6]+= 1\n",
        "      if (actualEmotion == \"Happy\"):\n",
        "        correctEmotions[7]+= 1\n",
        "\n",
        "    if predGroup == actualGroup:\n",
        "        correctGroup += 1\n",
        "      \n",
        "      #print(\"Ding! That is \" + str(correct) + \" correct predictions so far out of \" + str(total))\n",
        "\n",
        "\n",
        "#printAllFreqs()"
      ],
      "metadata": {
        "colab": {
          "base_uri": "https://localhost:8080/"
        },
        "id": "Qw7hadoaQEhG",
        "outputId": "611c58c5-d30e-49cb-cf14-34b3cf05631e"
      },
      "execution_count": null,
      "outputs": [
        {
          "output_type": "stream",
          "name": "stdout",
          "text": [
            "Checking files for Actor_18\n",
            "Checking files for Actor_16\n",
            "Checking files for Actor_15\n",
            "Checking files for Actor_22\n",
            "Checking files for Actor_21\n",
            "Checking files for Actor_17\n",
            "Checking files for Actor_23\n",
            "Checking files for Actor_24\n",
            "Checking files for Actor_19\n",
            "Checking files for Actor_20\n"
          ]
        },
        {
          "output_type": "stream",
          "name": "stderr",
          "text": [
            "/usr/local/lib/python3.7/dist-packages/ipykernel_launcher.py:29: RuntimeWarning: Mean of empty slice.\n",
            "/usr/local/lib/python3.7/dist-packages/numpy/core/_methods.py:189: RuntimeWarning: invalid value encountered in double_scalars\n",
            "  ret = ret.dtype.type(ret / rcount)\n"
          ]
        },
        {
          "output_type": "stream",
          "name": "stdout",
          "text": [
            "Checking files for Actor_05\n",
            "Checking files for Actor_07\n",
            "Checking files for Actor_08\n",
            "Checking files for Actor_10\n",
            "Checking files for Actor_09\n",
            "Checking files for Actor_06\n",
            "Checking files for Actor_13\n",
            "Checking files for Actor_14\n",
            "Checking files for Actor_12\n",
            "Checking files for Actor_11\n",
            "Checking files for Actor_03\n",
            "Checking files for Actor_01\n",
            "Checking files for Actor_02\n",
            "Checking files for Actor_04\n"
          ]
        }
      ]
    },
    {
      "cell_type": "code",
      "source": [
        "print (\"Emotion Correctness \"+ str(correct) + \"/\" + str(total) + \" = \" + str(correct/total))\n",
        "print (\"Group Correctness: \" + str(correctGroup) + \"/\" + str(total) + \" = \" + str(correctGroup/total))\n",
        "print (\"Disgusted Correctness \"+ str(correctEmotions[0]) + \"/\" + str(totalEmotions[0]) + \" = \" + str(correctEmotions[0]/totalEmotions[0]))\n",
        "print (\"Calm Correctness \"+ str(correctEmotions[1]) + \"/\" + str(totalEmotions[1]) + \" = \" + str(correctEmotions[1]/totalEmotions[1]))\n",
        "print (\"Sad Correctness \"+ str(correctEmotions[2]) + \"/\" + str(totalEmotions[2]) + \" = \" + str(correctEmotions[2]/totalEmotions[2]))\n",
        "print (\"Neutral Correctness \"+ str(correctEmotions[3]) + \"/\" + str(totalEmotions[3]) + \" = \" + str(correctEmotions[3]/totalEmotions[3]))\n",
        "print (\"Angry Correctness \"+ str(correctEmotions[4]) + \"/\" + str(totalEmotions[4]) + \" = \" + str(correctEmotions[4]/totalEmotions[4]))\n",
        "print (\"Surprised Correctness \"+ str(correctEmotions[5]) + \"/\" + str(totalEmotions[5]) + \" = \" + str(correctEmotions[5]/totalEmotions[5]))\n",
        "print (\"Fearful Correctness \"+ str(correctEmotions[6]) + \"/\" + str(totalEmotions[6]) + \" = \" + str(correctEmotions[6]/totalEmotions[6]))\n",
        "print (\"Happy Correctness \"+ str(correctEmotions[7]) + \"/\" + str(totalEmotions[7]) + \" = \" + str(correctEmotions[7]/totalEmotions[7]))\n",
        "\n"
      ],
      "metadata": {
        "colab": {
          "base_uri": "https://localhost:8080/"
        },
        "id": "Z-tamvBsYUri",
        "outputId": "2e5bc690-d56e-4e55-b748-8b5020e972c3"
      },
      "execution_count": null,
      "outputs": [
        {
          "output_type": "stream",
          "name": "stdout",
          "text": [
            "Emotion Correctness 272/1440 = 0.18888888888888888\n",
            "Group Correctness: 676/1440 = 0.46944444444444444\n",
            "Disgusted Correctness 29/192 = 0.15104166666666666\n",
            "Calm Correctness 15/192 = 0.078125\n",
            "Sad Correctness 13/192 = 0.06770833333333333\n",
            "Neutral Correctness 4/96 = 0.041666666666666664\n",
            "Angry Correctness 33/192 = 0.171875\n",
            "Surprised Correctness 74/192 = 0.3854166666666667\n",
            "Fearful Correctness 73/192 = 0.3802083333333333\n",
            "Happy Correctness 31/192 = 0.16145833333333334\n"
          ]
        }
      ]
    }
  ]
}